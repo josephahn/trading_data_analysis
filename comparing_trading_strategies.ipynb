{
 "cells": [
  {
   "cell_type": "markdown",
   "id": "e2774d03",
   "metadata": {},
   "source": [
    "# Title"
   ]
  },
  {
   "cell_type": "markdown",
   "id": "39beee24",
   "metadata": {},
   "source": [
    "TODO: write up about project\n",
    "\n",
    "Notes on installation?\n",
    "https://github.com/stefan-jansen/machine-learning-for-trading/tree/main/installation"
   ]
  },
  {
   "cell_type": "markdown",
   "id": "95bdefb3",
   "metadata": {},
   "source": [
    "### Import libraries"
   ]
  },
  {
   "cell_type": "code",
   "execution_count": 1,
   "id": "58480ca3",
   "metadata": {},
   "outputs": [],
   "source": [
    "import math\n",
    "import numpy as np\n",
    "import pandas as pd\n",
    "import matplotlib.pyplot as plt\n",
    "import yfinance as yf\n",
    "import zipline\n",
    "from zipline.api import order_percent, order_target, order_value, order, record, symbol\n",
    "from zipline.finance import commission, slippage\n",
    "from zipline import run_algorithm\n",
    "\n",
    "%load_ext zipline\n",
    "%matplotlib inline"
   ]
  },
  {
   "cell_type": "markdown",
   "id": "816f00ae",
   "metadata": {},
   "source": [
    "### Download stock data"
   ]
  },
  {
   "cell_type": "code",
   "execution_count": 2,
   "id": "757b359d",
   "metadata": {},
   "outputs": [],
   "source": [
    "start_date='2020-01-02'\n",
    "end_date='2020-12-30'\n",
    "\n",
    "start_year=start_date[0:4]"
   ]
  },
  {
   "cell_type": "code",
   "execution_count": 11,
   "id": "a87ff938",
   "metadata": {
    "scrolled": true
   },
   "outputs": [],
   "source": [
    "def download_stock_data(ticker, start_date, end_date):\n",
    "    df = yf.download(ticker, start=start_date, end=end_date)\n",
    "    df = df.reset_index()\n",
    "    df = df.drop(['Adj Close'], axis=1)\n",
    "    df = df.rename(str.lower, axis='columns')\n",
    "    df['dividend'] = 0\n",
    "    df['split'] = 1\n",
    "    return df"
   ]
  },
  {
   "cell_type": "code",
   "execution_count": 12,
   "id": "12fd7c20",
   "metadata": {},
   "outputs": [
    {
     "name": "stdout",
     "output_type": "stream",
     "text": [
      "[*********************100%***********************]  1 of 1 completed\n",
      "[*********************100%***********************]  1 of 1 completed\n",
      "[*********************100%***********************]  1 of 1 completed\n",
      "[*********************100%***********************]  1 of 1 completed\n",
      "[*********************100%***********************]  1 of 1 completed\n",
      "[*********************100%***********************]  1 of 1 completed\n",
      "[*********************100%***********************]  1 of 1 completed\n",
      "[*********************100%***********************]  1 of 1 completed\n",
      "[*********************100%***********************]  1 of 1 completed\n"
     ]
    }
   ],
   "source": [
    "df_tsla = download_stock_data('TSLA', start_date, end_date)\n",
    "df_aapl = download_stock_data('AAPL', start_date, end_date)\n",
    "df_nflx = download_stock_data('NFLX', start_date, end_date)\n",
    "df_hsbc = download_stock_data('HSBC', start_date, end_date)\n",
    "df_gs = download_stock_data('GS', start_date, end_date)\n",
    "df_gme = download_stock_data('GME', start_date, end_date)\n",
    "df_ge = download_stock_data('GE', start_date, end_date)\n",
    "df_lyg = download_stock_data('LYG', start_date, end_date)\n",
    "df_shldq = download_stock_data('SHLDQ', start_date, end_date)"
   ]
  },
  {
   "cell_type": "code",
   "execution_count": 13,
   "id": "80a11390",
   "metadata": {},
   "outputs": [
    {
     "data": {
      "text/html": [
       "<div>\n",
       "<style scoped>\n",
       "    .dataframe tbody tr th:only-of-type {\n",
       "        vertical-align: middle;\n",
       "    }\n",
       "\n",
       "    .dataframe tbody tr th {\n",
       "        vertical-align: top;\n",
       "    }\n",
       "\n",
       "    .dataframe thead th {\n",
       "        text-align: right;\n",
       "    }\n",
       "</style>\n",
       "<table border=\"1\" class=\"dataframe\">\n",
       "  <thead>\n",
       "    <tr style=\"text-align: right;\">\n",
       "      <th></th>\n",
       "      <th>date</th>\n",
       "      <th>open</th>\n",
       "      <th>high</th>\n",
       "      <th>low</th>\n",
       "      <th>close</th>\n",
       "      <th>volume</th>\n",
       "      <th>dividend</th>\n",
       "      <th>split</th>\n",
       "    </tr>\n",
       "  </thead>\n",
       "  <tbody>\n",
       "    <tr>\n",
       "      <th>0</th>\n",
       "      <td>2020-01-02</td>\n",
       "      <td>84.900002</td>\n",
       "      <td>86.139999</td>\n",
       "      <td>84.342003</td>\n",
       "      <td>86.052002</td>\n",
       "      <td>47660500</td>\n",
       "      <td>0</td>\n",
       "      <td>1</td>\n",
       "    </tr>\n",
       "    <tr>\n",
       "      <th>1</th>\n",
       "      <td>2020-01-03</td>\n",
       "      <td>88.099998</td>\n",
       "      <td>90.800003</td>\n",
       "      <td>87.384003</td>\n",
       "      <td>88.601997</td>\n",
       "      <td>88892500</td>\n",
       "      <td>0</td>\n",
       "      <td>1</td>\n",
       "    </tr>\n",
       "    <tr>\n",
       "      <th>2</th>\n",
       "      <td>2020-01-06</td>\n",
       "      <td>88.094002</td>\n",
       "      <td>90.311996</td>\n",
       "      <td>88.000000</td>\n",
       "      <td>90.307999</td>\n",
       "      <td>50665000</td>\n",
       "      <td>0</td>\n",
       "      <td>1</td>\n",
       "    </tr>\n",
       "    <tr>\n",
       "      <th>3</th>\n",
       "      <td>2020-01-07</td>\n",
       "      <td>92.279999</td>\n",
       "      <td>94.325996</td>\n",
       "      <td>90.671997</td>\n",
       "      <td>93.811996</td>\n",
       "      <td>89410500</td>\n",
       "      <td>0</td>\n",
       "      <td>1</td>\n",
       "    </tr>\n",
       "    <tr>\n",
       "      <th>4</th>\n",
       "      <td>2020-01-08</td>\n",
       "      <td>94.739998</td>\n",
       "      <td>99.697998</td>\n",
       "      <td>93.646004</td>\n",
       "      <td>98.428001</td>\n",
       "      <td>155721500</td>\n",
       "      <td>0</td>\n",
       "      <td>1</td>\n",
       "    </tr>\n",
       "    <tr>\n",
       "      <th>...</th>\n",
       "      <td>...</td>\n",
       "      <td>...</td>\n",
       "      <td>...</td>\n",
       "      <td>...</td>\n",
       "      <td>...</td>\n",
       "      <td>...</td>\n",
       "      <td>...</td>\n",
       "      <td>...</td>\n",
       "    </tr>\n",
       "    <tr>\n",
       "      <th>247</th>\n",
       "      <td>2020-12-23</td>\n",
       "      <td>632.200012</td>\n",
       "      <td>651.500000</td>\n",
       "      <td>622.570007</td>\n",
       "      <td>645.979980</td>\n",
       "      <td>33173000</td>\n",
       "      <td>0</td>\n",
       "      <td>1</td>\n",
       "    </tr>\n",
       "    <tr>\n",
       "      <th>248</th>\n",
       "      <td>2020-12-24</td>\n",
       "      <td>642.989990</td>\n",
       "      <td>666.090027</td>\n",
       "      <td>641.000000</td>\n",
       "      <td>661.770020</td>\n",
       "      <td>22865600</td>\n",
       "      <td>0</td>\n",
       "      <td>1</td>\n",
       "    </tr>\n",
       "    <tr>\n",
       "      <th>249</th>\n",
       "      <td>2020-12-28</td>\n",
       "      <td>674.510010</td>\n",
       "      <td>681.400024</td>\n",
       "      <td>660.799988</td>\n",
       "      <td>663.690002</td>\n",
       "      <td>32278600</td>\n",
       "      <td>0</td>\n",
       "      <td>1</td>\n",
       "    </tr>\n",
       "    <tr>\n",
       "      <th>250</th>\n",
       "      <td>2020-12-29</td>\n",
       "      <td>661.000000</td>\n",
       "      <td>669.900024</td>\n",
       "      <td>655.000000</td>\n",
       "      <td>665.989990</td>\n",
       "      <td>22910800</td>\n",
       "      <td>0</td>\n",
       "      <td>1</td>\n",
       "    </tr>\n",
       "    <tr>\n",
       "      <th>251</th>\n",
       "      <td>2020-12-30</td>\n",
       "      <td>672.000000</td>\n",
       "      <td>696.599976</td>\n",
       "      <td>668.359985</td>\n",
       "      <td>694.780029</td>\n",
       "      <td>42846000</td>\n",
       "      <td>0</td>\n",
       "      <td>1</td>\n",
       "    </tr>\n",
       "  </tbody>\n",
       "</table>\n",
       "<p>252 rows × 8 columns</p>\n",
       "</div>"
      ],
      "text/plain": [
       "          date        open        high         low       close     volume  \\\n",
       "0   2020-01-02   84.900002   86.139999   84.342003   86.052002   47660500   \n",
       "1   2020-01-03   88.099998   90.800003   87.384003   88.601997   88892500   \n",
       "2   2020-01-06   88.094002   90.311996   88.000000   90.307999   50665000   \n",
       "3   2020-01-07   92.279999   94.325996   90.671997   93.811996   89410500   \n",
       "4   2020-01-08   94.739998   99.697998   93.646004   98.428001  155721500   \n",
       "..         ...         ...         ...         ...         ...        ...   \n",
       "247 2020-12-23  632.200012  651.500000  622.570007  645.979980   33173000   \n",
       "248 2020-12-24  642.989990  666.090027  641.000000  661.770020   22865600   \n",
       "249 2020-12-28  674.510010  681.400024  660.799988  663.690002   32278600   \n",
       "250 2020-12-29  661.000000  669.900024  655.000000  665.989990   22910800   \n",
       "251 2020-12-30  672.000000  696.599976  668.359985  694.780029   42846000   \n",
       "\n",
       "     dividend  split  \n",
       "0           0      1  \n",
       "1           0      1  \n",
       "2           0      1  \n",
       "3           0      1  \n",
       "4           0      1  \n",
       "..        ...    ...  \n",
       "247         0      1  \n",
       "248         0      1  \n",
       "249         0      1  \n",
       "250         0      1  \n",
       "251         0      1  \n",
       "\n",
       "[252 rows x 8 columns]"
      ]
     },
     "execution_count": 13,
     "metadata": {},
     "output_type": "execute_result"
    }
   ],
   "source": [
    "df_tsla"
   ]
  },
  {
   "cell_type": "markdown",
   "id": "25938ef7",
   "metadata": {},
   "source": [
    "### Save data to CSV file\n",
    "\n",
    "Note: the CSV file must be the ticker symbol without additional text like `tsla-2011.csv`"
   ]
  },
  {
   "cell_type": "code",
   "execution_count": 15,
   "id": "5874fedd",
   "metadata": {},
   "outputs": [],
   "source": [
    "df_tsla.to_csv(f'daily/{start_year}/tsla.csv', index=False)\n",
    "df_aapl.to_csv(f'daily/{start_year}/aapl.csv', index=False)\n",
    "df_nflx.to_csv(f'daily/{start_year}/nflx.csv', index=False)\n",
    "df_hsbc.to_csv(f'daily/{start_year}/hsbc.csv', index=False)\n",
    "df_gs.to_csv(f'daily/{start_year}/gs.csv', index=False)\n",
    "df_gme.to_csv(f'daily/{start_year}/gme.csv', index=False)\n",
    "df_ge.to_csv(f'daily/{start_year}/ge.csv', index=False)\n",
    "df_lyg.to_csv(f'daily/{start_year}/lyg.csv', index=False)\n",
    "df_shldq.to_csv(f'daily/{start_year}/shldq.csv', index=False)"
   ]
  },
  {
   "cell_type": "markdown",
   "id": "bea5100a",
   "metadata": {},
   "source": [
    "### Ingest data\n",
    "Edit ~/.zipline/extension.py according to zipline docs https://zipline.ml4trading.io/bundles.html#ingesting-data-from-csv-files\n",
    "\n",
    "Note: Zipline seems to handle one custom bundle at a time. Ingest data one by one."
   ]
  },
  {
   "cell_type": "code",
   "execution_count": 10,
   "id": "9a47862a",
   "metadata": {},
   "outputs": [
    {
     "name": "stdout",
     "output_type": "stream",
     "text": [
      "[2021-11-08 02:36:32.716123] INFO: zipline.data.bundles.core: Ingesting shldq-2020.\n",
      "\u001b[?25lLoading custom pricing data:   [------------------------------------]    0% | aapl: sid 0\n",
      "\u001b[?25lLoading custom pricing data:   [####--------------------------------]   11% | ge: sid 1\n",
      "\u001b[?25lLoading custom pricing data:   [########----------------------------]   22% | gme: sid 2\n",
      "\u001b[?25lLoading custom pricing data:   [############------------------------]   33% | gs: sid 3\n",
      "\u001b[?25lLoading custom pricing data:   [################--------------------]   44% | hsbc: sid 4\n",
      "\u001b[?25lLoading custom pricing data:   [####################----------------]   55% | lyg: sid 5\n",
      "\u001b[?25lLoading custom pricing data:   [########################------------]   66% | nflx: sid 6\n",
      "\u001b[?25lLoading custom pricing data:   [############################--------]   77% | shldq: sid 7\n",
      "\u001b[?25lLoading custom pricing data:   [################################----]   88% | tsla: sid 8\n",
      "\u001b[?25lLoading custom pricing data:   [####################################]  100%\u001b[?25h\n",
      "\u001b[?25lMerging daily equity files:  [####################################]   \u001b[?25h\n"
     ]
    }
   ],
   "source": [
    "# !zipline ingest -b tsla-2020\n",
    "# !zipline ingest -b aapl-2020\n",
    "# !zipline ingest -b nflx-2020\n",
    "# !zipline ingest -b hsbc-2020\n",
    "# !zipline ingest -b gs-2020\n",
    "# !zipline ingest -b gme-2020\n",
    "# !zipline ingest -b ge-2020\n",
    "# !zipline ingest -b lyg-2020\n",
    "!zipline ingest -b shldq-2020"
   ]
  },
  {
   "cell_type": "code",
   "execution_count": 12,
   "id": "95b3f6d3",
   "metadata": {
    "scrolled": true
   },
   "outputs": [
    {
     "name": "stdout",
     "output_type": "stream",
     "text": [
      "csvdir <no ingestions>\n",
      "gs-2017 2021-11-08 01:51:55.139794\n",
      "quandl 2021-10-29 00:52:00.736804\n",
      "quandl 2021-10-29 00:42:42.964339\n",
      "quandl 2021-10-28 00:23:28.895431\n",
      "quantopian-quandl <no ingestions>\n"
     ]
    }
   ],
   "source": [
    "!zipline bundles"
   ]
  },
  {
   "cell_type": "markdown",
   "id": "8726c9c3",
   "metadata": {},
   "source": [
    "## Backtesting Trading Strategies"
   ]
  },
  {
   "cell_type": "code",
   "execution_count": 3,
   "id": "a2d348b5",
   "metadata": {},
   "outputs": [],
   "source": [
    "start = pd.Timestamp(start_date).tz_localize(\"UTC\")\n",
    "end =pd.Timestamp(end_date).tz_localize(\"UTC\")\n",
    "principal = 10000"
   ]
  },
  {
   "cell_type": "code",
   "execution_count": 4,
   "id": "155e2d01",
   "metadata": {},
   "outputs": [],
   "source": [
    "# ticker = 'TSLA'\n",
    "# ticker = 'AAPL'\n",
    "# ticker = 'NFLX'\n",
    "# ticker = 'HSBC'\n",
    "# ticker = 'GS'\n",
    "# ticker = 'GME'\n",
    "# ticker = 'GE'\n",
    "# ticker = 'LYG'\n",
    "ticker = 'SHLDQ'\n",
    "bundle_name = f'{ticker.lower()}-{start_year}'"
   ]
  },
  {
   "cell_type": "code",
   "execution_count": 5,
   "id": "5201de8f",
   "metadata": {},
   "outputs": [],
   "source": [
    "# plotting function\n",
    "def plot(title, results, columns_to_plot):\n",
    "    fig, ax = plt.subplots(3, 1, sharex=True, figsize=[16, 9])\n",
    "\n",
    "    # portfolio value\n",
    "    results.portfolio_value.plot(ax=ax[0])\n",
    "    ax[0].set_ylabel('portfolio value in $')\n",
    "\n",
    "    # asset\n",
    "    results[columns_to_plot].plot(ax=ax[1])\n",
    "    ax[1].set_ylabel('price in $')\n",
    "\n",
    "    # mark transactions\n",
    "    perf_trans = results.loc[[t != [] for t in results.transactions]]\n",
    "    buys = perf_trans.loc[[t[0]['amount'] > 0 for t in perf_trans.transactions]]\n",
    "    sells = perf_trans.loc[[t[0]['amount'] < 0 for t in perf_trans.transactions]]\n",
    "    ax[1].plot(buys.index, results.price.loc[buys.index], '^', markersize=10, color='g', label='buy')\n",
    "    ax[1].plot(sells.index, results.price.loc[sells.index], 'v', markersize=10, color='r', label='sell')\n",
    "    ax[1].legend()\n",
    "\n",
    "    # daily returns\n",
    "    results.returns.plot(ax=ax[2])\n",
    "    ax[2].set_ylabel('daily returns')\n",
    "\n",
    "    fig.suptitle(title, fontsize=16)\n",
    "    plt.legend()\n",
    "    plt.show()\n",
    "\n",
    "    print('Final portfolio value (including cash): ${}'.format(np.round(results.portfolio_value[-1], 2)))\n"
   ]
  },
  {
   "cell_type": "markdown",
   "id": "22230fb9",
   "metadata": {},
   "source": [
    "### Buy and hold"
   ]
  },
  {
   "cell_type": "code",
   "execution_count": 5,
   "id": "969bacd4",
   "metadata": {},
   "outputs": [],
   "source": [
    "def initialize(context):\n",
    "    context.asset = symbol(ticker)\n",
    "    context.has_ordered = False  \n",
    "\n",
    "def handle_data(context, data):\n",
    "    record(price=data.current(context.asset, 'price'))\n",
    "    \n",
    "    # trading logic\n",
    "    if not context.has_ordered:\n",
    "        order_value(context.asset, principal)\n",
    "        context.has_ordered = True\n",
    "        \n",
    "bah_results = run_algorithm(\n",
    "    start=start,\n",
    "    end=end,\n",
    "    initialize=initialize,\n",
    "    handle_data=handle_data,\n",
    "    capital_base=principal,\n",
    "    bundle=bundle_name,\n",
    "    data_frequency=\"daily\",\n",
    ")\n",
    "\n",
    "# plot('Buy and Hold - Tesla', bah_results, ['price'])"
   ]
  },
  {
   "cell_type": "markdown",
   "id": "ceb51dd7",
   "metadata": {},
   "source": [
    "### Dollar cost averaging\n"
   ]
  },
  {
   "cell_type": "code",
   "execution_count": 6,
   "id": "fe50cb62",
   "metadata": {},
   "outputs": [],
   "source": [
    "amount_to_invest_weekly = principal / (3*52)\n",
    "\n",
    "def initialize(context):\n",
    "    context.days = 0\n",
    "    context.asset = symbol(ticker)\n",
    "    context.amount_to_invest_weekly = amount_to_invest_weekly\n",
    "    context.amont_invested = 0\n",
    "\n",
    "def handle_data(context, data):\n",
    "    context.days += 1\n",
    "\n",
    "    if context.days == 7:\n",
    "        context.days = 0\n",
    "        return\n",
    "    if context.days == 1:\n",
    "        n_stocks_to_buy = math.floor(context.amount_to_invest_weekly / data.current(context.asset, 'price'))\n",
    "        if n_stocks_to_buy == 0:\n",
    "            context.amount_to_invest_weekly += amount_to_invest_weekly\n",
    "        else:\n",
    "            context.amont_invested += n_stocks_to_buy * data.current(context.asset, 'price')\n",
    "            if context.amont_invested < principal:\n",
    "                order(context.asset, n_stocks_to_buy)\n",
    "                context.amount_to_invest_weekly = amount_to_invest_weekly\n",
    "                \n",
    "    record(price=data.current(context.asset, \"price\"))\n",
    "            \n",
    "\n",
    "dca_results = run_algorithm(\n",
    "    start=start,\n",
    "    end=end,\n",
    "    initialize=initialize,\n",
    "    handle_data=handle_data,\n",
    "    capital_base=principal,\n",
    "    bundle=bundle_name,\n",
    "    data_frequency=\"daily\",\n",
    ")\n",
    "\n",
    "# plot('Dollar Cost Averaging - Tesla', dca_results, ['price'])\n"
   ]
  },
  {
   "cell_type": "markdown",
   "id": "1b0d554b",
   "metadata": {},
   "source": [
    "### Simple moving average"
   ]
  },
  {
   "cell_type": "code",
   "execution_count": 7,
   "id": "dd79c77d",
   "metadata": {},
   "outputs": [
    {
     "name": "stderr",
     "output_type": "stream",
     "text": [
      "/Users/josephahn/opt/anaconda3/envs/ml4t/lib/python3.8/site-packages/empyrical/stats.py:797: RuntimeWarning: invalid value encountered in true_divide\n",
      "  np.divide(average_annual_return, annualized_downside_risk, out=out)\n",
      "/Users/josephahn/opt/anaconda3/envs/ml4t/lib/python3.8/site-packages/empyrical/stats.py:706: RuntimeWarning: invalid value encountered in true_divide\n",
      "  np.divide(\n"
     ]
    }
   ],
   "source": [
    "look_back_days = 20\n",
    "\n",
    "def initialize(context):\n",
    "    context.days = 0\n",
    "    context.asset = symbol(ticker)\n",
    "\n",
    "def handle_data(context, data):\n",
    "    context.days += 1\n",
    "    if context.days < look_back_days:\n",
    "        return\n",
    "\n",
    "    price_history = data.history(context.asset, fields=\"price\", bar_count=look_back_days, frequency=\"1d\")\n",
    " \n",
    "    # calculate moving averages\n",
    "    ma = price_history.mean()\n",
    "    \n",
    "    # trading logic\n",
    "    \n",
    "    # cross up\n",
    "    if (price_history[-2] < ma) & (price_history[-1] > ma):\n",
    "        order_percent(context.asset, 1.0)\n",
    "    # cross down\n",
    "    elif (price_history[-2] > ma) & (price_history[-1] < ma):\n",
    "        order_target(context.asset, 0)\n",
    "\n",
    "    record(price=data.current(context.asset, 'price'),\n",
    "           moving_average=ma)\n",
    "    \n",
    "    \n",
    "sma_results = run_algorithm(\n",
    "    start=start,\n",
    "    end=end,\n",
    "    initialize=initialize,\n",
    "    handle_data=handle_data,\n",
    "    capital_base=principal,\n",
    "    bundle=bundle_name,\n",
    "    data_frequency=\"daily\",\n",
    ")\n",
    "\n",
    "# plot('Simple Moving Average - Tesla', sma_results, ['price', 'moving_average'])"
   ]
  },
  {
   "cell_type": "markdown",
   "id": "e2ceba16",
   "metadata": {},
   "source": [
    "### Moving Average Crossover"
   ]
  },
  {
   "cell_type": "code",
   "execution_count": 8,
   "id": "5abb2f9f",
   "metadata": {},
   "outputs": [],
   "source": [
    "SLOW_MA_PERIODS = 100\n",
    "FAST_MA_PERIODS = 20\n",
    "\n",
    "def initialize(context):\n",
    "    context.days = 0\n",
    "    context.asset = symbol(ticker)\n",
    "    context.has_position = False\n",
    "    \n",
    "def handle_data(context, data):\n",
    "    context.days += 1\n",
    "    if context.days < SLOW_MA_PERIODS:\n",
    "        return\n",
    "\n",
    "    # calculate moving averages\n",
    "    fast_ma = data.history(context.asset, 'price', bar_count=FAST_MA_PERIODS, frequency=\"1d\").mean()\n",
    "    slow_ma = data.history(context.asset, 'price', bar_count=SLOW_MA_PERIODS, frequency=\"1d\").mean()\n",
    "\n",
    "    # trading logic\n",
    "    if (fast_ma > slow_ma) & (not context.has_position):\n",
    "        order_percent(context.asset, 1.0)\n",
    "        context.has_position = True\n",
    "    elif (fast_ma < slow_ma) & (context.has_position):\n",
    "        order_target(context.asset, 0)\n",
    "        context.has_position = False\n",
    "\n",
    "    record(price=data.current(context.asset, 'price'),\n",
    "           fast_ma=fast_ma,\n",
    "           slow_ma=slow_ma)\n",
    "\n",
    "    \n",
    "mac_results = run_algorithm(\n",
    "    start=start,\n",
    "    end=end,\n",
    "    initialize=initialize,\n",
    "    handle_data=handle_data,\n",
    "    capital_base=principal,\n",
    "    bundle=bundle_name,\n",
    "    data_frequency=\"daily\",\n",
    ")\n",
    "\n",
    "# plot('Moving Average Crossover Strategy - Tesla', mac_results, ['price', 'fast_ma', 'slow_ma'])"
   ]
  },
  {
   "cell_type": "markdown",
   "id": "e925cae8",
   "metadata": {},
   "source": [
    "### Save results to CSV file"
   ]
  },
  {
   "cell_type": "code",
   "execution_count": 9,
   "id": "4a7f6872",
   "metadata": {},
   "outputs": [],
   "source": [
    "bah_results.to_csv(f'results/{ticker.lower()}/{start_year}/bah.csv', index=False)\n",
    "dca_results.to_csv(f'results/{ticker.lower()}/{start_year}/dca.csv', index=False)\n",
    "sma_results.to_csv(f'results/{ticker.lower()}/{start_year}/sma.csv', index=False)\n",
    "mac_results.to_csv(f'results/{ticker.lower()}/{start_year}/mac.csv', index=False)"
   ]
  }
 ],
 "metadata": {
  "kernelspec": {
   "display_name": "Python 3 (ipykernel)",
   "language": "python",
   "name": "python3"
  },
  "language_info": {
   "codemirror_mode": {
    "name": "ipython",
    "version": 3
   },
   "file_extension": ".py",
   "mimetype": "text/x-python",
   "name": "python",
   "nbconvert_exporter": "python",
   "pygments_lexer": "ipython3",
   "version": "3.8.12"
  }
 },
 "nbformat": 4,
 "nbformat_minor": 5
}
