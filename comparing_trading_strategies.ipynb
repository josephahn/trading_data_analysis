{
 "cells": [
  {
   "cell_type": "markdown",
   "id": "e2774d03",
   "metadata": {},
   "source": [
    "# Title"
   ]
  },
  {
   "cell_type": "markdown",
   "id": "39beee24",
   "metadata": {},
   "source": [
    "TODO: write up about project\n",
    "\n",
    "Notes on installation?\n",
    "https://github.com/stefan-jansen/machine-learning-for-trading/tree/main/installation"
   ]
  },
  {
   "cell_type": "markdown",
   "id": "95bdefb3",
   "metadata": {},
   "source": [
    "### Import libraries"
   ]
  },
  {
   "cell_type": "code",
   "execution_count": 1,
   "id": "58480ca3",
   "metadata": {},
   "outputs": [],
   "source": [
    "import math\n",
    "import numpy as np\n",
    "import pandas as pd\n",
    "import matplotlib.pyplot as plt\n",
    "import yfinance as yf\n",
    "import zipline\n",
    "from zipline.api import order_percent, order_target, order_value, order, record, symbol\n",
    "from zipline.finance import commission, slippage\n",
    "from zipline import run_algorithm\n",
    "\n",
    "%load_ext zipline\n",
    "%matplotlib inline"
   ]
  },
  {
   "cell_type": "markdown",
   "id": "816f00ae",
   "metadata": {},
   "source": [
    "### Download stock data from 2011 to 2021"
   ]
  },
  {
   "cell_type": "code",
   "execution_count": 2,
   "id": "a87ff938",
   "metadata": {
    "scrolled": true
   },
   "outputs": [],
   "source": [
    "def download_stock_data(ticker, start_date, end_date):\n",
    "    df = yf.download(ticker, start=start_date, end=end_date)\n",
    "    df = df.reset_index()\n",
    "    df = df.drop(['Adj Close'], axis=1)\n",
    "    df = df.rename(str.lower, axis='columns')\n",
    "    df['dividend'] = 0\n",
    "    df['split'] = 1\n",
    "    return df"
   ]
  },
  {
   "cell_type": "code",
   "execution_count": 3,
   "id": "12fd7c20",
   "metadata": {},
   "outputs": [
    {
     "name": "stdout",
     "output_type": "stream",
     "text": [
      "[*********************100%***********************]  1 of 1 completed\n"
     ]
    }
   ],
   "source": [
    "start_date='2011-01-01'\n",
    "end_date='2020-12-31'\n",
    "\n",
    "# df_tsla = download_stock_data('TSLA', start_date, end_date)\n",
    "# df_aapl = download_stock_data('AAPL', start_date, end_date)\n",
    "# df_nflx = download_stock_data('NFLX', start_date, end_date)\n",
    "# df_hsbc = download_stock_data('HSBC', start_date, end_date)\n",
    "# df_gs = download_stock_data('GS', start_date, end_date)\n",
    "# df_gme = download_stock_data('GME', start_date, end_date)\n",
    "# df_ge = download_stock_data('GE', start_date, end_date)\n",
    "# df_lyg = download_stock_data('LYG', start_date, end_date)\n",
    "df_shldq = download_stock_data('SHLDQ', start_date, end_date)"
   ]
  },
  {
   "cell_type": "markdown",
   "id": "25938ef7",
   "metadata": {},
   "source": [
    "### Save data to CSV file"
   ]
  },
  {
   "cell_type": "code",
   "execution_count": 4,
   "id": "5874fedd",
   "metadata": {},
   "outputs": [],
   "source": [
    "# df_tsla.to_csv('daily/tsla.csv', index=False)\n",
    "# df_aapl.to_csv('daily/aapl.csv', index=False)\n",
    "# df_nflx.to_csv('daily/nflx.csv', index=False)\n",
    "# df_hsbc.to_csv('daily/hsbc.csv', index=False)\n",
    "# df_gs.to_csv('daily/gs.csv', index=False)\n",
    "# df_gme.to_csv('daily/gme.csv', index=False)\n",
    "# df_ge.to_csv('daily/ge.csv', index=False)\n",
    "# df_lyg.to_csv('daily/lyg.csv', index=False)\n",
    "df_shldq.to_csv('daily/shldq.csv', index=False)"
   ]
  },
  {
   "cell_type": "markdown",
   "id": "bea5100a",
   "metadata": {},
   "source": [
    "### Ingest data\n",
    "Edit ~/.zipline/extension.py according to zipline docs https://zipline.ml4trading.io/bundles.html#ingesting-data-from-csv-files\n",
    "\n",
    "Note: Zipline seems to handle one custom bundle at a time. Ingest data one by one."
   ]
  },
  {
   "cell_type": "code",
   "execution_count": 5,
   "id": "9a47862a",
   "metadata": {},
   "outputs": [
    {
     "name": "stdout",
     "output_type": "stream",
     "text": [
      "[2021-11-06 16:23:03.328939] INFO: zipline.data.bundles.core: Ingesting shldq-prices-2011-2021.\n",
      "\u001b[?25lLoading custom pricing data:   [------------------------------------]    0% | shldq: sid 0\n",
      "\u001b[?25lLoading custom pricing data:   [####################################]  100%\u001b[?25h\n",
      "\u001b[?25lMerging daily equity files:  [####################################]   \u001b[?25h\n"
     ]
    }
   ],
   "source": [
    "# !zipline ingest -b tsla-prices-2011-2021\n",
    "# !zipline ingest -b aapl-prices-2011-2021\n",
    "# !zipline ingest -b nflx-prices-2011-2021\n",
    "# !zipline ingest -b hsbc-prices-2011-2021\n",
    "# !zipline ingest -b gs-prices-2011-2021\n",
    "# !zipline ingest -b gme-prices-2011-2021\n",
    "# !zipline ingest -b ge-prices-2011-2021\n",
    "# !zipline ingest -b lyg-prices-2011-2021\n",
    "!zipline ingest -b shldq-prices-2011-2021"
   ]
  },
  {
   "cell_type": "code",
   "execution_count": 6,
   "id": "95b3f6d3",
   "metadata": {},
   "outputs": [
    {
     "name": "stdout",
     "output_type": "stream",
     "text": [
      "csvdir <no ingestions>\r\n",
      "quandl 2021-10-29 00:52:00.736804\r\n",
      "quandl 2021-10-29 00:42:42.964339\r\n",
      "quandl 2021-10-28 00:23:28.895431\r\n",
      "quantopian-quandl <no ingestions>\r\n",
      "shldq-prices-2011-2021 2021-11-06 16:23:03.015244\r\n"
     ]
    }
   ],
   "source": [
    "!zipline bundles"
   ]
  },
  {
   "cell_type": "markdown",
   "id": "8726c9c3",
   "metadata": {},
   "source": [
    "## Backtesting Trading Strategies"
   ]
  },
  {
   "cell_type": "code",
   "execution_count": 10,
   "id": "a2d348b5",
   "metadata": {},
   "outputs": [],
   "source": [
    "start_date = pd.Timestamp(\"2011-1-1\").tz_localize(\"UTC\")\n",
    "end_date =pd.Timestamp(\"2019-12-31\").tz_localize(\"UTC\")\n",
    "principal = 10000"
   ]
  },
  {
   "cell_type": "code",
   "execution_count": 11,
   "id": "155e2d01",
   "metadata": {},
   "outputs": [],
   "source": [
    "ticker = 'SHLDQ'\n",
    "bundle_name = 'shldq-prices-2011-2021'"
   ]
  },
  {
   "cell_type": "code",
   "execution_count": 20,
   "id": "5201de8f",
   "metadata": {},
   "outputs": [],
   "source": [
    "# plotting function\n",
    "def plot(title, results, columns_to_plot):\n",
    "    fig, ax = plt.subplots(3, 1, sharex=True, figsize=[16, 9])\n",
    "\n",
    "    # portfolio value\n",
    "    results.portfolio_value.plot(ax=ax[0])\n",
    "    ax[0].set_ylabel('portfolio value in $')\n",
    "\n",
    "    # asset\n",
    "    results[columns_to_plot].plot(ax=ax[1])\n",
    "    ax[1].set_ylabel('price in $')\n",
    "\n",
    "    # mark transactions\n",
    "    perf_trans = results.loc[[t != [] for t in results.transactions]]\n",
    "    buys = perf_trans.loc[[t[0]['amount'] > 0 for t in perf_trans.transactions]]\n",
    "    sells = perf_trans.loc[[t[0]['amount'] < 0 for t in perf_trans.transactions]]\n",
    "    ax[1].plot(buys.index, results.price.loc[buys.index], '^', markersize=10, color='g', label='buy')\n",
    "    ax[1].plot(sells.index, results.price.loc[sells.index], 'v', markersize=10, color='r', label='sell')\n",
    "    ax[1].legend()\n",
    "\n",
    "    # daily returns\n",
    "    results.returns.plot(ax=ax[2])\n",
    "    ax[2].set_ylabel('daily returns')\n",
    "\n",
    "    fig.suptitle(title, fontsize=16)\n",
    "    plt.legend()\n",
    "    plt.show()\n",
    "\n",
    "    print('Final portfolio value (including cash): ${}'.format(np.round(results.portfolio_value[-1], 2)))\n"
   ]
  },
  {
   "cell_type": "markdown",
   "id": "22230fb9",
   "metadata": {},
   "source": [
    "### Buy and hold"
   ]
  },
  {
   "cell_type": "code",
   "execution_count": 12,
   "id": "969bacd4",
   "metadata": {},
   "outputs": [],
   "source": [
    "def initialize(context):\n",
    "    context.asset = symbol(ticker)\n",
    "    context.has_ordered = False  \n",
    "\n",
    "def handle_data(context, data):\n",
    "    record(price=data.current(context.asset, 'price'))\n",
    "    \n",
    "    # trading logic\n",
    "    if not context.has_ordered:\n",
    "        order_value(context.asset, principal)\n",
    "        context.has_ordered = True\n",
    "        \n",
    "bah_results = run_algorithm(\n",
    "    start=start_date,\n",
    "    end=end_date,\n",
    "    initialize=initialize,\n",
    "    handle_data=handle_data,\n",
    "    capital_base=principal,\n",
    "    bundle=bundle_name,\n",
    "    data_frequency=\"daily\",\n",
    ")\n",
    "\n",
    "# plot('Buy and Hold - Tesla', buy_and_hold_results, ['price'])"
   ]
  },
  {
   "cell_type": "markdown",
   "id": "ceb51dd7",
   "metadata": {},
   "source": [
    "### Dollar cost averaging\n"
   ]
  },
  {
   "cell_type": "code",
   "execution_count": 13,
   "id": "fe50cb62",
   "metadata": {},
   "outputs": [],
   "source": [
    "amount_to_invest_weekly = principal / (3*52)\n",
    "\n",
    "def initialize(context):\n",
    "    context.days = 0\n",
    "    context.asset = symbol(ticker)\n",
    "    context.amount_to_invest_weekly = amount_to_invest_weekly\n",
    "    context.amont_invested = 0\n",
    "\n",
    "def handle_data(context, data):\n",
    "    context.days += 1\n",
    "\n",
    "    if context.days == 7:\n",
    "        context.days = 0\n",
    "        return\n",
    "    if context.days == 1:\n",
    "        n_stocks_to_buy = math.floor(context.amount_to_invest_weekly / data.current(context.asset, 'price'))\n",
    "        if n_stocks_to_buy == 0:\n",
    "            context.amount_to_invest_weekly += amount_to_invest_weekly\n",
    "        else:\n",
    "            context.amont_invested += n_stocks_to_buy * data.current(context.asset, 'price')\n",
    "            if context.amont_invested < principal:\n",
    "                order(context.asset, n_stocks_to_buy)\n",
    "                context.amount_to_invest_weekly = amount_to_invest_weekly\n",
    "                \n",
    "    record(price=data.current(context.asset, \"price\"))\n",
    "            \n",
    "\n",
    "dca_results = run_algorithm(\n",
    "    start=start_date,\n",
    "    end=end_date,\n",
    "    initialize=initialize,\n",
    "    handle_data=handle_data,\n",
    "    capital_base=principal,\n",
    "    bundle=bundle_name,\n",
    "    data_frequency=\"daily\",\n",
    ")\n",
    "\n",
    "# plot('Dollar Cost Averaging - Tesla', dca_results, ['price'])\n"
   ]
  },
  {
   "cell_type": "markdown",
   "id": "1b0d554b",
   "metadata": {},
   "source": [
    "### Simple moving average"
   ]
  },
  {
   "cell_type": "code",
   "execution_count": 14,
   "id": "dd79c77d",
   "metadata": {},
   "outputs": [
    {
     "name": "stderr",
     "output_type": "stream",
     "text": [
      "/Users/josephahn/opt/anaconda3/envs/ml4t/lib/python3.8/site-packages/empyrical/stats.py:706: RuntimeWarning: invalid value encountered in true_divide\n",
      "  np.divide(\n",
      "/Users/josephahn/opt/anaconda3/envs/ml4t/lib/python3.8/site-packages/empyrical/stats.py:797: RuntimeWarning: invalid value encountered in true_divide\n",
      "  np.divide(average_annual_return, annualized_downside_risk, out=out)\n"
     ]
    }
   ],
   "source": [
    "look_back_days = 20\n",
    "\n",
    "def initialize(context):\n",
    "    context.days = 0\n",
    "    context.asset = symbol(ticker)\n",
    "\n",
    "def handle_data(context, data):\n",
    "    context.days += 1\n",
    "    if context.days < look_back_days:\n",
    "        return\n",
    "\n",
    "    price_history = data.history(context.asset, fields=\"price\", bar_count=look_back_days, frequency=\"1d\")\n",
    " \n",
    "    # calculate moving averages\n",
    "    ma = price_history.mean()\n",
    "    \n",
    "    # trading logic\n",
    "    \n",
    "    # cross up\n",
    "    if (price_history[-2] < ma) & (price_history[-1] > ma):\n",
    "        order_percent(context.asset, 1.0)\n",
    "    # cross down\n",
    "    elif (price_history[-2] > ma) & (price_history[-1] < ma):\n",
    "        order_target(context.asset, 0)\n",
    "\n",
    "    record(price=data.current(context.asset, 'price'),\n",
    "           moving_average=ma)\n",
    "    \n",
    "    \n",
    "sma_results = run_algorithm(\n",
    "    start=start_date,\n",
    "    end=end_date,\n",
    "    initialize=initialize,\n",
    "    handle_data=handle_data,\n",
    "    capital_base=principal,\n",
    "    bundle=bundle_name,\n",
    "    data_frequency=\"daily\",\n",
    ")\n",
    "\n",
    "# plot('Simple Moving Average - Tesla', sma_results, ['price', 'moving_average'])"
   ]
  },
  {
   "cell_type": "markdown",
   "id": "e2ceba16",
   "metadata": {},
   "source": [
    "### Moving Average Crossover"
   ]
  },
  {
   "cell_type": "code",
   "execution_count": 15,
   "id": "5abb2f9f",
   "metadata": {},
   "outputs": [],
   "source": [
    "SLOW_MA_PERIODS = 100\n",
    "FAST_MA_PERIODS = 20\n",
    "\n",
    "def initialize(context):\n",
    "    context.days = 0\n",
    "    context.asset = symbol(ticker)\n",
    "    context.has_position = False\n",
    "    \n",
    "def handle_data(context, data):\n",
    "    context.days += 1\n",
    "    if context.days < SLOW_MA_PERIODS:\n",
    "        return\n",
    "\n",
    "    # calculate moving averages\n",
    "    fast_ma = data.history(context.asset, 'price', bar_count=FAST_MA_PERIODS, frequency=\"1d\").mean()\n",
    "    slow_ma = data.history(context.asset, 'price', bar_count=SLOW_MA_PERIODS, frequency=\"1d\").mean()\n",
    "\n",
    "    # trading logic\n",
    "    if (fast_ma > slow_ma) & (not context.has_position):\n",
    "        order_percent(context.asset, 1.0)\n",
    "        context.has_position = True\n",
    "    elif (fast_ma < slow_ma) & (context.has_position):\n",
    "        order_target(context.asset, 0)\n",
    "        context.has_position = False\n",
    "\n",
    "    record(price=data.current(context.asset, 'price'),\n",
    "           fast_ma=fast_ma,\n",
    "           slow_ma=slow_ma)\n",
    "\n",
    "    \n",
    "mac_results = run_algorithm(\n",
    "    start=start_date,\n",
    "    end=end_date,\n",
    "    initialize=initialize,\n",
    "    handle_data=handle_data,\n",
    "    capital_base=principal,\n",
    "    bundle=bundle_name,\n",
    "    data_frequency=\"daily\",\n",
    ")\n",
    "\n",
    "# plot('Moving Average Crossover Strategy - Tesla', mac_results, ['price', 'fast_ma', 'slow_ma'])"
   ]
  },
  {
   "cell_type": "markdown",
   "id": "e925cae8",
   "metadata": {},
   "source": [
    "### Save results to CSV file"
   ]
  },
  {
   "cell_type": "code",
   "execution_count": 16,
   "id": "4a7f6872",
   "metadata": {},
   "outputs": [],
   "source": [
    "bah_results.to_csv(f'results/{ticker.lower()}/bah.csv', index=False)\n",
    "dca_results.to_csv(f'results/{ticker.lower()}/dca.csv', index=False)\n",
    "sma_results.to_csv(f'results/{ticker.lower()}/sma.csv', index=False)\n",
    "mac_results.to_csv(f'results/{ticker.lower()}/mac.csv', index=False)"
   ]
  }
 ],
 "metadata": {
  "kernelspec": {
   "display_name": "Python 3 (ipykernel)",
   "language": "python",
   "name": "python3"
  },
  "language_info": {
   "codemirror_mode": {
    "name": "ipython",
    "version": 3
   },
   "file_extension": ".py",
   "mimetype": "text/x-python",
   "name": "python",
   "nbconvert_exporter": "python",
   "pygments_lexer": "ipython3",
   "version": "3.8.12"
  }
 },
 "nbformat": 4,
 "nbformat_minor": 5
}
